{
 "cells": [
  {
   "cell_type": "markdown",
   "metadata": {},
   "source": [
    "# Virtual screening of analogs\n",
    "After running the getcores script on the queries, virtual screening of analogs for a given compound can be carried out following the next steps:\n",
    "\n",
    "1. Enumeration of putative cores in the molecule\n",
    "2. Search in cores dictionary\n",
    "3. Map cores to molecules\n",
    "4. Get R group tables\n",
    "\n",
    "Most is done off-memory and in parallel"
   ]
  },
  {
   "cell_type": "code",
   "execution_count": 8,
   "metadata": {},
   "outputs": [],
   "source": [
    "from scripts.Rtables import Rcore\n",
    "from scripts.vs import write_core_hits, find_line\n",
    "from cairosvg import svg2png\n",
    "import pandas as pd\n",
    "import argparse\n",
    "import os\n",
    "import shutil\n",
    "from functools import partial\n",
    "import multiprocessing as mp\n",
    "import numpy as np"
   ]
  },
  {
   "cell_type": "code",
   "execution_count": 2,
   "metadata": {},
   "outputs": [
    {
     "name": "stderr",
     "output_type": "stream",
     "text": [
      "usage: ipykernel_launcher.py [-h] -q QUERIES -qid QUERYID [-qs QSEP]\n",
      "                             [-qsmi QSMILESCOL] -d DATABASE [-o OUTPUT]\n",
      "                             [-p PREFIX] [-qfrag FRAGQUERIES] [-c COREPROP]\n",
      "                             [-r RTABLES] [-n NCPU]\n",
      "ipykernel_launcher.py: error: the following arguments are required: -q/--queries, -qid/--queryid, -d/--database\n"
     ]
    },
    {
     "ename": "SystemExit",
     "evalue": "2",
     "output_type": "error",
     "traceback": [
      "An exception has occurred, use %tb to see the full traceback.\n",
      "\u001b[0;31mSystemExit\u001b[0m\u001b[0;31m:\u001b[0m 2\n"
     ]
    },
    {
     "name": "stderr",
     "output_type": "stream",
     "text": [
      "/home/naveja/anaconda3/envs/rdkit/lib/python3.7/site-packages/IPython/core/interactiveshell.py:3425: UserWarning: To exit: use 'exit', 'quit', or Ctrl-D.\n",
      "  warn(\"To exit: use 'exit', 'quit', or Ctrl-D.\", stacklevel=1)\n"
     ]
    }
   ],
   "source": [
    "#Parser for running as .py\n",
    "parser = argparse.ArgumentParser(description='To perform core virtual screening for a list of queries in a huge preprocessed database. Run big-data-cores.py first')\n",
    "parser.add_argument('-q','--queries', help='Input queries file', required=True)\n",
    "parser.add_argument('-qid','--queryid', help='Queries ID column name', required=True)\n",
    "parser.add_argument('-qs','--qsep', help='Separator in queries file', default=\"\\t\")\n",
    "parser.add_argument('-qsmi','--qsmilescol', help='Name of column with SMILES in queries file', default=\"washed\")\n",
    "parser.add_argument('-d','--database', help='Database folder (output from big-data...py)', required=True)\n",
    "parser.add_argument('-o','--output', help='Prefix for output folder', default=\"vs_output/\")\n",
    "parser.add_argument('-p','--prefix', help='Prefix for output files', default=\"vs_\")\n",
    "#parser.add_argument('-qfrag','--fragqueries', help='Whether queries should be fragmented or taken as is', default=True)\n",
    "parser.add_argument('-c','--coreprop', help='Minimum scaffold/molecule proportion', default=2/3)\n",
    "parser.add_argument('-r','--rtables', help='If true, R tables are written down', default=True)\n",
    "parser.add_argument('-n','--ncpu', help='Number of cpu to use. If negative, it is substracted from total', default=-1)\n",
    "args = vars(parser.parse_args())"
   ]
  },
  {
   "cell_type": "markdown",
   "metadata": {},
   "source": [
    "#Manual setup when running as notebook\n",
    "args = dict()\n",
    "args[\"output\"] = \"vs_output/\"\n",
    "args[\"path_VS\"] = \"/VS_tb/\"\n",
    "args[\"queries\"] = \"input/tb/out_cores.tsv\"\n",
    "args[\"queryid\"] = \"query_ID\"\n",
    "args[\"qsep\"] = \"\\t\"\n",
    "args[\"qsmilescol\"] = \"core\"\n",
    "args[\"database\"] = \"ZINC-frags/\"\n",
    "args[\"prefix\"] = \"vs_\"\n",
    "args[\"coreprop\"] = 2/3\n",
    "args[\"rtables\"] = True\n",
    "args[\"ncpu\"] = -2\n",
    "#args[\"fragqueries\"] = False"
   ]
  },
  {
   "cell_type": "code",
   "execution_count": 10,
   "metadata": {},
   "outputs": [],
   "source": [
    "ncpu = int(args[\"ncpu\"])\n",
    "if ncpu < 0:\n",
    "    ncpu = mp.cpu_count() + ncpu"
   ]
  },
  {
   "cell_type": "code",
   "execution_count": 12,
   "metadata": {},
   "outputs": [],
   "source": [
    "path_VS = args[\"output\"] + args[\"path_VS\"]"
   ]
  },
  {
   "cell_type": "code",
   "execution_count": 16,
   "metadata": {},
   "outputs": [],
   "source": [
    "queries = pd.read_csv(args[\"queries\"], sep=args[\"qsep\"], engine=\"python\")"
   ]
  },
  {
   "cell_type": "code",
   "execution_count": 17,
   "metadata": {
    "scrolled": true
   },
   "outputs": [
    {
     "data": {
      "text/html": [
       "<div>\n",
       "<style scoped>\n",
       "    .dataframe tbody tr th:only-of-type {\n",
       "        vertical-align: middle;\n",
       "    }\n",
       "\n",
       "    .dataframe tbody tr th {\n",
       "        vertical-align: top;\n",
       "    }\n",
       "\n",
       "    .dataframe thead th {\n",
       "        text-align: right;\n",
       "    }\n",
       "</style>\n",
       "<table border=\"1\" class=\"dataframe\">\n",
       "  <thead>\n",
       "    <tr style=\"text-align: right;\">\n",
       "      <th></th>\n",
       "      <th>Molecule</th>\n",
       "      <th>query_ID</th>\n",
       "      <th>washed</th>\n",
       "      <th>WID</th>\n",
       "      <th>mol_nHeavyAtoms</th>\n",
       "      <th>mol_MW</th>\n",
       "      <th>MID</th>\n",
       "      <th>core</th>\n",
       "      <th>core_nHeavyAtoms</th>\n",
       "      <th>core_MW</th>\n",
       "    </tr>\n",
       "  </thead>\n",
       "  <tbody>\n",
       "    <tr>\n",
       "      <th>0</th>\n",
       "      <td>Cc1c(CN2CCN(C)CC2)cc(-c(cc2)ccc2Cl)n1-c(cc1)cc...</td>\n",
       "      <td>1</td>\n",
       "      <td>Cc1c(CN2CCN(C)CC2)cc(-c2ccc(Cl)cc2)n1-c1ccc(Cl...</td>\n",
       "      <td>W0</td>\n",
       "      <td>28</td>\n",
       "      <td>414</td>\n",
       "      <td>M2</td>\n",
       "      <td>Cc1cc(-c2ccc(Cl)cc2)n(-c2ccc(Cl)cc2)c1C</td>\n",
       "      <td>21</td>\n",
       "      <td>316</td>\n",
       "    </tr>\n",
       "    <tr>\n",
       "      <th>1</th>\n",
       "      <td>Cc1c(CN2CCN(C)CC2)cc(-c(cc2)ccc2Cl)n1-c(cc1)cc...</td>\n",
       "      <td>1</td>\n",
       "      <td>Cc1c(CN2CCN(C)CC2)cc(-c2ccc(Cl)cc2)n1-c1ccc(Cl...</td>\n",
       "      <td>W0</td>\n",
       "      <td>28</td>\n",
       "      <td>414</td>\n",
       "      <td>M3</td>\n",
       "      <td>Cc1c(CN2CCN(C)CC2)ccn1-c1ccc(Cl)cc1</td>\n",
       "      <td>21</td>\n",
       "      <td>304</td>\n",
       "    </tr>\n",
       "    <tr>\n",
       "      <th>2</th>\n",
       "      <td>Cc1c(CN2CCN(C)CC2)cc(-c(cc2)ccc2Cl)n1-c(cc1)cc...</td>\n",
       "      <td>1</td>\n",
       "      <td>Cc1c(CN2CCN(C)CC2)cc(-c2ccc(Cl)cc2)n1-c1ccc(Cl...</td>\n",
       "      <td>W0</td>\n",
       "      <td>28</td>\n",
       "      <td>414</td>\n",
       "      <td>M4</td>\n",
       "      <td>Cc1[nH]c(-c2ccc(Cl)cc2)cc1CN1CCN(C)CC1</td>\n",
       "      <td>21</td>\n",
       "      <td>304</td>\n",
       "    </tr>\n",
       "    <tr>\n",
       "      <th>3</th>\n",
       "      <td>Cc1c(CN2CCN(C)CC2)cc(-c(cc2)ccc2Cl)n1-c(cc1)cc...</td>\n",
       "      <td>1</td>\n",
       "      <td>Cc1c(CN2CCN(C)CC2)cc(-c2ccc(Cl)cc2)n1-c1ccc(Cl...</td>\n",
       "      <td>W0</td>\n",
       "      <td>28</td>\n",
       "      <td>414</td>\n",
       "      <td>M1</td>\n",
       "      <td>Cc1c(CN2CCN(C)CC2)cc(-c2ccc(Cl)cc2)n1-c1ccc(Cl...</td>\n",
       "      <td>28</td>\n",
       "      <td>414</td>\n",
       "    </tr>\n",
       "    <tr>\n",
       "      <th>4</th>\n",
       "      <td>Cc1c(CN2CCSCC2)cc(-c(cc2)ccc2F)n1-c1ccccc1</td>\n",
       "      <td>2</td>\n",
       "      <td>Cc1c(CN2CCSCC2)cc(-c2ccc(F)cc2)n1-c1ccccc1</td>\n",
       "      <td>W1</td>\n",
       "      <td>26</td>\n",
       "      <td>367</td>\n",
       "      <td>M6</td>\n",
       "      <td>Cc1cc(-c2ccc(F)cc2)n(-c2ccccc2)c1C</td>\n",
       "      <td>20</td>\n",
       "      <td>265</td>\n",
       "    </tr>\n",
       "    <tr>\n",
       "      <th>...</th>\n",
       "      <td>...</td>\n",
       "      <td>...</td>\n",
       "      <td>...</td>\n",
       "      <td>...</td>\n",
       "      <td>...</td>\n",
       "      <td>...</td>\n",
       "      <td>...</td>\n",
       "      <td>...</td>\n",
       "      <td>...</td>\n",
       "      <td>...</td>\n",
       "    </tr>\n",
       "    <tr>\n",
       "      <th>262</th>\n",
       "      <td>Ic(cc1)ccc1-c(c(Cn1cncc1)c1)nn1-c1ccccc1</td>\n",
       "      <td>116</td>\n",
       "      <td>Ic1ccc(-c2nn(-c3ccccc3)cc2Cn2ccnc2)cc1</td>\n",
       "      <td>W115</td>\n",
       "      <td>24</td>\n",
       "      <td>426</td>\n",
       "      <td>M254</td>\n",
       "      <td>Ic1ccc(-c2nn(-c3ccccc3)cc2Cn2ccnc2)cc1</td>\n",
       "      <td>24</td>\n",
       "      <td>426</td>\n",
       "    </tr>\n",
       "    <tr>\n",
       "      <th>263</th>\n",
       "      <td>CN(C(Cc1c(C(F)(F)F)cccc1)=NC(C(NCc1ccccc1)=O)=...</td>\n",
       "      <td>117</td>\n",
       "      <td>Cn1c(Cc2ccccc2C(F)(F)F)nc(C(=O)NCc2ccccc2)c(O)...</td>\n",
       "      <td>W116</td>\n",
       "      <td>30</td>\n",
       "      <td>417</td>\n",
       "      <td>M259</td>\n",
       "      <td>Cn1c(Cc2ccccc2C(F)(F)F)nc(C=O)c(O)c1=O</td>\n",
       "      <td>22</td>\n",
       "      <td>312</td>\n",
       "    </tr>\n",
       "    <tr>\n",
       "      <th>264</th>\n",
       "      <td>CN(C(Cc1c(C(F)(F)F)cccc1)=NC(C(NCc1ccccc1)=O)=...</td>\n",
       "      <td>117</td>\n",
       "      <td>Cn1c(Cc2ccccc2C(F)(F)F)nc(C(=O)NCc2ccccc2)c(O)...</td>\n",
       "      <td>W116</td>\n",
       "      <td>30</td>\n",
       "      <td>417</td>\n",
       "      <td>M258</td>\n",
       "      <td>Cn1c(Cc2ccccc2C(F)(F)F)nc(C(=O)NCc2ccccc2)c(O)...</td>\n",
       "      <td>30</td>\n",
       "      <td>417</td>\n",
       "    </tr>\n",
       "    <tr>\n",
       "      <th>265</th>\n",
       "      <td>Cc(onc1C(O)=O)c1-c1cccc(-c(cc2Cl)cc(Cl)c2O)c1</td>\n",
       "      <td>118</td>\n",
       "      <td>Cc1onc(C(=O)O)c1-c1cccc(-c2cc(Cl)c(O)c(Cl)c2)c1</td>\n",
       "      <td>W117</td>\n",
       "      <td>24</td>\n",
       "      <td>364</td>\n",
       "      <td>M261</td>\n",
       "      <td>Cc1onc(C=O)c1-c1cccc(-c2cc(Cl)c(O)c(Cl)c2)c1</td>\n",
       "      <td>23</td>\n",
       "      <td>348</td>\n",
       "    </tr>\n",
       "    <tr>\n",
       "      <th>266</th>\n",
       "      <td>Cc(onc1C(O)=O)c1-c1cccc(-c(cc2Cl)cc(Cl)c2O)c1</td>\n",
       "      <td>118</td>\n",
       "      <td>Cc1onc(C(=O)O)c1-c1cccc(-c2cc(Cl)c(O)c(Cl)c2)c1</td>\n",
       "      <td>W117</td>\n",
       "      <td>24</td>\n",
       "      <td>364</td>\n",
       "      <td>M260</td>\n",
       "      <td>Cc1onc(C(=O)O)c1-c1cccc(-c2cc(Cl)c(O)c(Cl)c2)c1</td>\n",
       "      <td>24</td>\n",
       "      <td>364</td>\n",
       "    </tr>\n",
       "  </tbody>\n",
       "</table>\n",
       "<p>267 rows × 10 columns</p>\n",
       "</div>"
      ],
      "text/plain": [
       "                                              Molecule  query_ID  \\\n",
       "0    Cc1c(CN2CCN(C)CC2)cc(-c(cc2)ccc2Cl)n1-c(cc1)cc...         1   \n",
       "1    Cc1c(CN2CCN(C)CC2)cc(-c(cc2)ccc2Cl)n1-c(cc1)cc...         1   \n",
       "2    Cc1c(CN2CCN(C)CC2)cc(-c(cc2)ccc2Cl)n1-c(cc1)cc...         1   \n",
       "3    Cc1c(CN2CCN(C)CC2)cc(-c(cc2)ccc2Cl)n1-c(cc1)cc...         1   \n",
       "4           Cc1c(CN2CCSCC2)cc(-c(cc2)ccc2F)n1-c1ccccc1         2   \n",
       "..                                                 ...       ...   \n",
       "262           Ic(cc1)ccc1-c(c(Cn1cncc1)c1)nn1-c1ccccc1       116   \n",
       "263  CN(C(Cc1c(C(F)(F)F)cccc1)=NC(C(NCc1ccccc1)=O)=...       117   \n",
       "264  CN(C(Cc1c(C(F)(F)F)cccc1)=NC(C(NCc1ccccc1)=O)=...       117   \n",
       "265      Cc(onc1C(O)=O)c1-c1cccc(-c(cc2Cl)cc(Cl)c2O)c1       118   \n",
       "266      Cc(onc1C(O)=O)c1-c1cccc(-c(cc2Cl)cc(Cl)c2O)c1       118   \n",
       "\n",
       "                                                washed   WID  mol_nHeavyAtoms  \\\n",
       "0    Cc1c(CN2CCN(C)CC2)cc(-c2ccc(Cl)cc2)n1-c1ccc(Cl...    W0               28   \n",
       "1    Cc1c(CN2CCN(C)CC2)cc(-c2ccc(Cl)cc2)n1-c1ccc(Cl...    W0               28   \n",
       "2    Cc1c(CN2CCN(C)CC2)cc(-c2ccc(Cl)cc2)n1-c1ccc(Cl...    W0               28   \n",
       "3    Cc1c(CN2CCN(C)CC2)cc(-c2ccc(Cl)cc2)n1-c1ccc(Cl...    W0               28   \n",
       "4           Cc1c(CN2CCSCC2)cc(-c2ccc(F)cc2)n1-c1ccccc1    W1               26   \n",
       "..                                                 ...   ...              ...   \n",
       "262             Ic1ccc(-c2nn(-c3ccccc3)cc2Cn2ccnc2)cc1  W115               24   \n",
       "263  Cn1c(Cc2ccccc2C(F)(F)F)nc(C(=O)NCc2ccccc2)c(O)...  W116               30   \n",
       "264  Cn1c(Cc2ccccc2C(F)(F)F)nc(C(=O)NCc2ccccc2)c(O)...  W116               30   \n",
       "265    Cc1onc(C(=O)O)c1-c1cccc(-c2cc(Cl)c(O)c(Cl)c2)c1  W117               24   \n",
       "266    Cc1onc(C(=O)O)c1-c1cccc(-c2cc(Cl)c(O)c(Cl)c2)c1  W117               24   \n",
       "\n",
       "     mol_MW   MID                                               core  \\\n",
       "0       414    M2            Cc1cc(-c2ccc(Cl)cc2)n(-c2ccc(Cl)cc2)c1C   \n",
       "1       414    M3                Cc1c(CN2CCN(C)CC2)ccn1-c1ccc(Cl)cc1   \n",
       "2       414    M4             Cc1[nH]c(-c2ccc(Cl)cc2)cc1CN1CCN(C)CC1   \n",
       "3       414    M1  Cc1c(CN2CCN(C)CC2)cc(-c2ccc(Cl)cc2)n1-c1ccc(Cl...   \n",
       "4       367    M6                 Cc1cc(-c2ccc(F)cc2)n(-c2ccccc2)c1C   \n",
       "..      ...   ...                                                ...   \n",
       "262     426  M254             Ic1ccc(-c2nn(-c3ccccc3)cc2Cn2ccnc2)cc1   \n",
       "263     417  M259             Cn1c(Cc2ccccc2C(F)(F)F)nc(C=O)c(O)c1=O   \n",
       "264     417  M258  Cn1c(Cc2ccccc2C(F)(F)F)nc(C(=O)NCc2ccccc2)c(O)...   \n",
       "265     364  M261       Cc1onc(C=O)c1-c1cccc(-c2cc(Cl)c(O)c(Cl)c2)c1   \n",
       "266     364  M260    Cc1onc(C(=O)O)c1-c1cccc(-c2cc(Cl)c(O)c(Cl)c2)c1   \n",
       "\n",
       "     core_nHeavyAtoms  core_MW  \n",
       "0                  21      316  \n",
       "1                  21      304  \n",
       "2                  21      304  \n",
       "3                  28      414  \n",
       "4                  20      265  \n",
       "..                ...      ...  \n",
       "262                24      426  \n",
       "263                22      312  \n",
       "264                30      417  \n",
       "265                23      348  \n",
       "266                24      364  \n",
       "\n",
       "[267 rows x 10 columns]"
      ]
     },
     "execution_count": 17,
     "metadata": {},
     "output_type": "execute_result"
    }
   ],
   "source": [
    "#queries"
   ]
  },
  {
   "cell_type": "code",
   "execution_count": 22,
   "metadata": {
    "scrolled": true
   },
   "outputs": [
    {
     "data": {
      "text/plain": [
       "[None, None, None, None]"
      ]
     },
     "execution_count": 22,
     "metadata": {},
     "output_type": "execute_result"
    }
   ],
   "source": [
    "if not os.path.exists(args[\"output\"]):\n",
    "    os.mkdir(args[\"output\"])\n",
    "\n",
    "if os.path.exists(path_VS):\n",
    "    shutil.rmtree(path_VS)\n",
    "\n",
    "[os.mkdir(path_VS + i) for i in [\"\", \"hits\", \"Rtables\", \"hit_ids\"]]"
   ]
  },
  {
   "cell_type": "markdown",
   "metadata": {},
   "source": [
    "# 1. Find core hits (only structures)"
   ]
  },
  {
   "cell_type": "code",
   "execution_count": 23,
   "metadata": {},
   "outputs": [],
   "source": [
    "def find_cores(file,cores,indir,outdir):\n",
    "    with open(indir+file, \"r\") as dfile:\n",
    "        for line in dfile:\n",
    "            if any(core in line for core in cores):\n",
    "                with open(outdir +file,\"a+\") as outfile:\n",
    "                    outfile.write(line)\n",
    "    with open(outdir +\"/finished\",\"a+\") as outfile:\n",
    "        outfile.write(file+\"\\n\")\n"
   ]
  },
  {
   "cell_type": "code",
   "execution_count": 24,
   "metadata": {},
   "outputs": [],
   "source": [
    "queries = pd.read_csv(args[\"queries\"], sep=\"\\t\")[[\"MID\", \"core\"]].drop_duplicates()"
   ]
  },
  {
   "cell_type": "code",
   "execution_count": 25,
   "metadata": {},
   "outputs": [],
   "source": [
    "frags_dir = args[\"database\"]+\"frags/split/\" \n",
    "cores = list(set([\"|{}|\".format(each) for each in queries.core]))\n",
    "\n",
    "part_find_cores = partial(find_cores, cores =cores,\n",
    "                               indir=args[\"database\"]+\"frags/split/\", \n",
    "                               outdir=path_VS + \"hits/\")\n",
    "\n",
    "files = os.listdir(frags_dir)"
   ]
  },
  {
   "cell_type": "code",
   "execution_count": 26,
   "metadata": {
    "scrolled": true
   },
   "outputs": [],
   "source": [
    "with mp.Pool(processes = ncpu) as pool:  #apply wash function in parallel\n",
    "    pool.map(part_find_cores,files)      # run ~5 hrs"
   ]
  },
  {
   "cell_type": "markdown",
   "metadata": {},
   "source": [
    "# 2. Add original IDs"
   ]
  },
  {
   "cell_type": "code",
   "execution_count": 27,
   "metadata": {},
   "outputs": [],
   "source": [
    "def get_hits(file, hits):\n",
    "    \n",
    "    df = pd.read_csv(file, sep=\"\\t\").set_index(\"washed\")\n",
    "    labs = df.index.intersection(hits)\n",
    "    \n",
    "    if len(labs) > 0:\n",
    "        return df.loc[labs]"
   ]
  },
  {
   "cell_type": "code",
   "execution_count": 28,
   "metadata": {},
   "outputs": [],
   "source": [
    "#read hit files\n",
    "\n",
    "data = pd.DataFrame()\n",
    "\n",
    "for file in os.listdir(path_VS + \"/hits\"):\n",
    "        \n",
    "    try:\n",
    "        if \"txt\" in file:\n",
    "            data = pd.concat([data,pd.read_csv(path_VS + \"/hits/\" + file, sep=\"\\t\", header=None)])\n",
    "    \n",
    "    except:\n",
    "        None\n"
   ]
  },
  {
   "cell_type": "code",
   "execution_count": 29,
   "metadata": {},
   "outputs": [],
   "source": [
    "hits =list()\n",
    "\n",
    "for row in data.iterrows():\n",
    "    hits.append(row[1].iloc[0].split(\",\")[0][2:-1])"
   ]
  },
  {
   "cell_type": "code",
   "execution_count": 30,
   "metadata": {},
   "outputs": [],
   "source": [
    "part_get_hits= partial(get_hits, hits=hits)"
   ]
  },
  {
   "cell_type": "code",
   "execution_count": 31,
   "metadata": {},
   "outputs": [],
   "source": [
    "files = [args[\"database\"] + \"uwashed/\" + file for file in os.listdir(args[\"database\"] + \"uwashed/\")]\n",
    "\n",
    "with mp.Pool(processes = ncpu) as pool:  #apply function in parallel\n",
    "    tmp = pool.map(part_get_hits,files)  #run ~5hrs"
   ]
  },
  {
   "cell_type": "code",
   "execution_count": 34,
   "metadata": {},
   "outputs": [],
   "source": [
    "hits= pd.concat(tmp)\n",
    "#hits[\"washed\"] = hits.index\n",
    "hits = pd.DataFrame(hits.groupby(\"washed\").zinc_id.apply(lambda x: \",\".join(x)))"
   ]
  },
  {
   "cell_type": "code",
   "execution_count": 36,
   "metadata": {
    "scrolled": true
   },
   "outputs": [],
   "source": [
    "datadf = list()\n",
    "for row in data.iterrows():\n",
    "    tmp = row[1].iloc[0][1:].split(\",\")\n",
    "    hit_str = tmp[0][1:-1]\n",
    "    zinc_id = hits.loc[hit_str].iloc[0]\n",
    "        \n",
    "    for i in tmp:\n",
    "        datadf.append({\"hit_str\": hit_str, \"zinc_id\": zinc_id, \"core\": i[1:-1]})"
   ]
  },
  {
   "cell_type": "code",
   "execution_count": 37,
   "metadata": {},
   "outputs": [],
   "source": [
    "datadf=pd.DataFrame(datadf).merge(queries, on=\"core\")"
   ]
  },
  {
   "cell_type": "code",
   "execution_count": 38,
   "metadata": {},
   "outputs": [],
   "source": [
    "queriesstr = pd.read_csv(args[\"queries\"], sep=\"\\t\")"
   ]
  },
  {
   "cell_type": "code",
   "execution_count": 39,
   "metadata": {},
   "outputs": [],
   "source": [
    "final = queriesstr[[args[\"queryid\"],\"Molecule\", \"washed\", \"WID\", \"MID\"]].merge(datadf, on=\"MID\")"
   ]
  },
  {
   "cell_type": "code",
   "execution_count": 40,
   "metadata": {},
   "outputs": [],
   "source": [
    "final.to_csv(path_VS + \"/hit_ids/final.tsv\", index=None, sep=\"\\t\")"
   ]
  },
  {
   "cell_type": "code",
   "execution_count": 41,
   "metadata": {},
   "outputs": [
    {
     "data": {
      "text/html": [
       "<div>\n",
       "<style scoped>\n",
       "    .dataframe tbody tr th:only-of-type {\n",
       "        vertical-align: middle;\n",
       "    }\n",
       "\n",
       "    .dataframe tbody tr th {\n",
       "        vertical-align: top;\n",
       "    }\n",
       "\n",
       "    .dataframe thead th {\n",
       "        text-align: right;\n",
       "    }\n",
       "</style>\n",
       "<table border=\"1\" class=\"dataframe\">\n",
       "  <thead>\n",
       "    <tr style=\"text-align: right;\">\n",
       "      <th></th>\n",
       "      <th>query_ID</th>\n",
       "      <th>Molecule</th>\n",
       "      <th>washed</th>\n",
       "      <th>WID</th>\n",
       "      <th>MID</th>\n",
       "      <th>hit_str</th>\n",
       "      <th>zinc_id</th>\n",
       "      <th>core</th>\n",
       "    </tr>\n",
       "  </thead>\n",
       "  <tbody>\n",
       "    <tr>\n",
       "      <th>0</th>\n",
       "      <td>1</td>\n",
       "      <td>Cc1c(CN2CCN(C)CC2)cc(-c(cc2)ccc2Cl)n1-c(cc1)cc...</td>\n",
       "      <td>Cc1c(CN2CCN(C)CC2)cc(-c2ccc(Cl)cc2)n1-c1ccc(Cl...</td>\n",
       "      <td>W0</td>\n",
       "      <td>M2</td>\n",
       "      <td>Cc1c(CN2CCN(C)CC2)cc(-c2ccc(Cl)cc2)n1-c1ccc(Cl...</td>\n",
       "      <td>ZINC000022445591</td>\n",
       "      <td>Cc1cc(-c2ccc(Cl)cc2)n(-c2ccc(Cl)cc2)c1C</td>\n",
       "    </tr>\n",
       "    <tr>\n",
       "      <th>1</th>\n",
       "      <td>1</td>\n",
       "      <td>Cc1c(CN2CCN(C)CC2)cc(-c(cc2)ccc2Cl)n1-c(cc1)cc...</td>\n",
       "      <td>Cc1c(CN2CCN(C)CC2)cc(-c2ccc(Cl)cc2)n1-c1ccc(Cl...</td>\n",
       "      <td>W0</td>\n",
       "      <td>M3</td>\n",
       "      <td>Cc1c(CN2CCN(C)CC2)cc(-c2ccc(Cl)cc2)n1-c1ccc(Cl...</td>\n",
       "      <td>ZINC000022445591</td>\n",
       "      <td>Cc1c(CN2CCN(C)CC2)ccn1-c1ccc(Cl)cc1</td>\n",
       "    </tr>\n",
       "    <tr>\n",
       "      <th>2</th>\n",
       "      <td>1</td>\n",
       "      <td>Cc1c(CN2CCN(C)CC2)cc(-c(cc2)ccc2Cl)n1-c(cc1)cc...</td>\n",
       "      <td>Cc1c(CN2CCN(C)CC2)cc(-c2ccc(Cl)cc2)n1-c1ccc(Cl...</td>\n",
       "      <td>W0</td>\n",
       "      <td>M4</td>\n",
       "      <td>Cc1c(CN2CCN(C)CC2)cc(-c2ccc(Cl)cc2)n1-c1ccc(Cl...</td>\n",
       "      <td>ZINC000022445591</td>\n",
       "      <td>Cc1[nH]c(-c2ccc(Cl)cc2)cc1CN1CCN(C)CC1</td>\n",
       "    </tr>\n",
       "    <tr>\n",
       "      <th>3</th>\n",
       "      <td>1</td>\n",
       "      <td>Cc1c(CN2CCN(C)CC2)cc(-c(cc2)ccc2Cl)n1-c(cc1)cc...</td>\n",
       "      <td>Cc1c(CN2CCN(C)CC2)cc(-c2ccc(Cl)cc2)n1-c1ccc(Cl...</td>\n",
       "      <td>W0</td>\n",
       "      <td>M1</td>\n",
       "      <td>Cc1c(CN2CCN(C)CC2)cc(-c2ccc(Cl)cc2)n1-c1ccc(Cl...</td>\n",
       "      <td>ZINC000022445591</td>\n",
       "      <td>Cc1c(CN2CCN(C)CC2)cc(-c2ccc(Cl)cc2)n1-c1ccc(Cl...</td>\n",
       "    </tr>\n",
       "    <tr>\n",
       "      <th>4</th>\n",
       "      <td>3</td>\n",
       "      <td>Cc1cc(CNC2CCCCC2)c(C)n1-c(cc1)ccc1Cl</td>\n",
       "      <td>Cc1cc(CNC2CCCCC2)c(C)n1-c1ccc(Cl)cc1</td>\n",
       "      <td>W2</td>\n",
       "      <td>M10</td>\n",
       "      <td>Cc1cc(C=C2SC(=N)NC2=O)c(C)n1-c1ccc(Cl)cc1</td>\n",
       "      <td>ZINC000033933258</td>\n",
       "      <td>Cc1cc(C)n(-c2ccc(Cl)cc2)c1C</td>\n",
       "    </tr>\n",
       "  </tbody>\n",
       "</table>\n",
       "</div>"
      ],
      "text/plain": [
       "   query_ID                                           Molecule  \\\n",
       "0         1  Cc1c(CN2CCN(C)CC2)cc(-c(cc2)ccc2Cl)n1-c(cc1)cc...   \n",
       "1         1  Cc1c(CN2CCN(C)CC2)cc(-c(cc2)ccc2Cl)n1-c(cc1)cc...   \n",
       "2         1  Cc1c(CN2CCN(C)CC2)cc(-c(cc2)ccc2Cl)n1-c(cc1)cc...   \n",
       "3         1  Cc1c(CN2CCN(C)CC2)cc(-c(cc2)ccc2Cl)n1-c(cc1)cc...   \n",
       "4         3               Cc1cc(CNC2CCCCC2)c(C)n1-c(cc1)ccc1Cl   \n",
       "\n",
       "                                              washed WID  MID  \\\n",
       "0  Cc1c(CN2CCN(C)CC2)cc(-c2ccc(Cl)cc2)n1-c1ccc(Cl...  W0   M2   \n",
       "1  Cc1c(CN2CCN(C)CC2)cc(-c2ccc(Cl)cc2)n1-c1ccc(Cl...  W0   M3   \n",
       "2  Cc1c(CN2CCN(C)CC2)cc(-c2ccc(Cl)cc2)n1-c1ccc(Cl...  W0   M4   \n",
       "3  Cc1c(CN2CCN(C)CC2)cc(-c2ccc(Cl)cc2)n1-c1ccc(Cl...  W0   M1   \n",
       "4               Cc1cc(CNC2CCCCC2)c(C)n1-c1ccc(Cl)cc1  W2  M10   \n",
       "\n",
       "                                             hit_str           zinc_id  \\\n",
       "0  Cc1c(CN2CCN(C)CC2)cc(-c2ccc(Cl)cc2)n1-c1ccc(Cl...  ZINC000022445591   \n",
       "1  Cc1c(CN2CCN(C)CC2)cc(-c2ccc(Cl)cc2)n1-c1ccc(Cl...  ZINC000022445591   \n",
       "2  Cc1c(CN2CCN(C)CC2)cc(-c2ccc(Cl)cc2)n1-c1ccc(Cl...  ZINC000022445591   \n",
       "3  Cc1c(CN2CCN(C)CC2)cc(-c2ccc(Cl)cc2)n1-c1ccc(Cl...  ZINC000022445591   \n",
       "4          Cc1cc(C=C2SC(=N)NC2=O)c(C)n1-c1ccc(Cl)cc1  ZINC000033933258   \n",
       "\n",
       "                                                core  \n",
       "0            Cc1cc(-c2ccc(Cl)cc2)n(-c2ccc(Cl)cc2)c1C  \n",
       "1                Cc1c(CN2CCN(C)CC2)ccn1-c1ccc(Cl)cc1  \n",
       "2             Cc1[nH]c(-c2ccc(Cl)cc2)cc1CN1CCN(C)CC1  \n",
       "3  Cc1c(CN2CCN(C)CC2)cc(-c2ccc(Cl)cc2)n1-c1ccc(Cl...  \n",
       "4                        Cc1cc(C)n(-c2ccc(Cl)cc2)c1C  "
      ]
     },
     "execution_count": 41,
     "metadata": {},
     "output_type": "execute_result"
    }
   ],
   "source": [
    "final = pd.read_csv(path_VS + \"/hit_ids/final.tsv\", sep=\"\\t\")\n",
    "#final.head()"
   ]
  },
  {
   "cell_type": "code",
   "execution_count": 50,
   "metadata": {},
   "outputs": [
    {
     "name": "stdout",
     "output_type": "stream",
     "text": [
      "Found a total of 3993 hits matching 67 cores\n"
     ]
    }
   ],
   "source": [
    "print(f\"Found a total of {len(final)} hits matching {len(final.MID.unique())} cores.\")"
   ]
  },
  {
   "cell_type": "markdown",
   "metadata": {},
   "source": [
    "# 3. Create R-group tables"
   ]
  },
  {
   "cell_type": "code",
   "execution_count": 45,
   "metadata": {},
   "outputs": [],
   "source": [
    "print(\"Creating R-group tables\")\n",
    "\n",
    "data=final\n",
    "if args[\"rtables\"] == True:\n",
    "    rpath = path_VS + \"/Rtables/\"\n",
    "    os.mkdir(rpath + \"0index/\")\n",
    "\n",
    "    for mid in data.MID.unique():\n",
    "        core = queries.loc[queries.MID == mid, \"core\"].iloc[0]\n",
    "        dirname = rpath + mid\n",
    "        os.mkdir(dirname)\n",
    "        analogs = data[data.core == core][[\"hit_str\", \"zinc_id\"]].drop_duplicates()\n",
    "        analogs.index = analogs[\"zinc_id\"]\n",
    "        analogs = analogs[\"hit_str\"]\n",
    "        queriestmp = data[data.core == core][[\"washed\", args[\"queryid\"]]].drop_duplicates()\n",
    "        queriestmp.index = [\"query:\" + str(i) for i in queriestmp[args[\"queryid\"]]]\n",
    "        queriestmp = queriestmp[\"washed\"]\n",
    "        analogs = queriestmp.append(analogs)\n",
    "        fig, rtab = Rcore(core, analogs, filename = dirname + \"/Rtab\")\n",
    "        svg2png(bytestring=fig.data, write_to=rpath + \"0index/\" + mid + \".png\")\n",
    "        with open(dirname+\"/core.smi\", \"wt\") as f:\n",
    "            f.write(core)"
   ]
  },
  {
   "cell_type": "code",
   "execution_count": null,
   "metadata": {},
   "outputs": [],
   "source": [
    "print(\"DONE\")"
   ]
  }
 ],
 "metadata": {
  "kernelspec": {
   "display_name": "Python (RDkit)",
   "language": "python",
   "name": "rdkit"
  },
  "language_info": {
   "codemirror_mode": {
    "name": "ipython",
    "version": 3
   },
   "file_extension": ".py",
   "mimetype": "text/x-python",
   "name": "python",
   "nbconvert_exporter": "python",
   "pygments_lexer": "ipython3",
   "version": "3.7.9"
  }
 },
 "nbformat": 4,
 "nbformat_minor": 2
}
