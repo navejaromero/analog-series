{
 "cells": [
  {
   "cell_type": "markdown",
   "metadata": {},
   "source": [
    "# R group tables \n",
    "## This script contains relevant functions for generating and visualizing R group tables"
   ]
  },
  {
   "cell_type": "code",
   "execution_count": 1,
   "metadata": {
    "collapsed": true
   },
   "outputs": [],
   "source": [
    "from rdkit import Chem\n",
    "from rdkit.Chem import Draw, rdDepictor\n",
    "from rdkit.Chem.Draw import rdMolDraw2D\n",
    "from rdkit.Chem.Draw.MolDrawing import MolDrawing, DrawingOptions #Only needed if modifying defaults\n",
    "from IPython.display import SVG\n",
    "import re"
   ]
  },
  {
   "cell_type": "code",
   "execution_count": 2,
   "metadata": {
    "collapsed": true
   },
   "outputs": [],
   "source": [
    "def getFrags(analog, core):\n",
    "    '''\n",
    "    For a given pair analog-core, it gets the fragments with their attachment site\n",
    "    '''\n",
    "    wid = analog.index[0]\n",
    "    analog = Chem.MolFromSmiles(analog.values[0])\n",
    "    core = Chem.MolFromSmiles(core)\n",
    "    \n",
    "    frags = Chem.MolToSmiles(Chem.ReplaceCore(analog, core, analog.GetSubstructMatch(core),labelByIndex=True), isomericSmiles=True).split(\".\")\n",
    "    \n",
    "    subs = {\"WID\": wid}\n",
    "    \n",
    "    for j in frags:\n",
    "        try:\n",
    "            subs[int(re.search(\"\\[(.*?)\\*\\]\",j).group(1))] = re.sub(\"\\[(.*?)\\*\\]\",\"[*]\",j)\n",
    "        except:\n",
    "            subs[0] = re.sub(\"\\*\",\"[*]\",j)\n",
    "    \n",
    "    return subs #, set(subs.keys()) - {\"WID\"}\n",
    "\n",
    "def Rtab(analogs, core):\n",
    "    '''\n",
    "    input: labeled list of analogs and core\n",
    "    output: R group table\n",
    "    '''\n",
    "    frags = list()\n",
    "    for k in range(len(analogs)):\n",
    "        kfrags = getFrags(analogs[[k]], core)\n",
    "        frags.append(kfrags)\n",
    "    \n",
    "    res = pd.DataFrame(frags).set_index(\"WID\").fillna(\"[H]\")\n",
    "    res[res == \"\"] = \"[H]\"\n",
    "    \n",
    "    keep = (res.apply(lambda x: (x == \"[H]\").mean()) != 1)\n",
    "    keep = keep[keep].index\n",
    "    res = res[keep]\n",
    "    \n",
    "    return res\n",
    "\n",
    "def mol_with_atom_index( mol ):\n",
    "    atoms = mol.GetNumAtoms()\n",
    "    for idx in range( atoms ):\n",
    "        mol.GetAtomWithIdx( idx ).SetProp( 'molAtomMapNumber', str( mol.GetAtomWithIdx( idx ).GetIdx() ) )\n",
    "    return mol\n",
    "\n",
    "def Rcore(core, analogs, filename= None):\n",
    "    Rtable = Rtab(analogs,m)\n",
    "    mol = mol_with_atom_index(Chem.MolFromSmiles(core))\n",
    "    rdDepictor.Compute2DCoords(mol)\n",
    "    drawer = rdMolDraw2D.MolDraw2DSVG(400,200)\n",
    "    drawer.DrawMolecule(mol, highlightAtoms=list(Rtable.columns),highlightBonds=[])\n",
    "    drawer.FinishDrawing()\n",
    "    fig = SVG(drawer.GetDrawingText().replace('svg:',''))\n",
    "    \n",
    "    if filename:        \n",
    "        figfile = filename + \".svg\"\n",
    "        with open(figfile, \"w\") as f:\n",
    "            f.write(fig.data)\n",
    "        \n",
    "        Rfile = filename + \".csv\"\n",
    "        Rtable.to_csv(Rfile)\n",
    "            \n",
    "    return fig, Rtable\n",
    "\n",
    "def moltosvg(mol,molSize=(450,150),kekulize=True):\n",
    "    mc = Chem.Mol(mol.ToBinary())\n",
    "    if kekulize:\n",
    "        try:\n",
    "            Chem.Kekulize(mc)\n",
    "        except:\n",
    "            mc = Chem.Mol(mol.ToBinary())\n",
    "    if not mc.GetNumConformers():\n",
    "        rdDepictor.Compute2DCoords(mc)\n",
    "    drawer = rdMolDraw2D.MolDraw2DSVG(molSize[0],molSize[1])\n",
    "    drawer.DrawMolecule(mc)\n",
    "    drawer.FinishDrawing()\n",
    "    svg = drawer.GetDrawingText()\n",
    "    return svg.replace('svg:','')\n",
    "DrawingOptions.bondLineWidth=1.8\n"
   ]
  }
 ],
 "metadata": {
  "kernelspec": {
   "display_name": "Python [conda env:rdkit-env]",
   "language": "python",
   "name": "conda-env-rdkit-env-py"
  },
  "language_info": {
   "codemirror_mode": {
    "name": "ipython",
    "version": 3
   },
   "file_extension": ".py",
   "mimetype": "text/x-python",
   "name": "python",
   "nbconvert_exporter": "python",
   "pygments_lexer": "ipython3",
   "version": "3.5.5"
  }
 },
 "nbformat": 4,
 "nbformat_minor": 2
}
