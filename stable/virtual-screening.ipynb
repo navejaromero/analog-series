{
 "cells": [
  {
   "cell_type": "markdown",
   "metadata": {},
   "source": [
    "# Virtual screening of analogs\n",
    "After running the getcores script, virtual screening of analogs for a given compound can be carried out following the next steps:\n",
    "\n",
    "1. Enumeration of putative cores in the molecule\n",
    "2. Search in cores dictionary\n",
    "3. Map cores to molecules"
   ]
  },
  {
   "cell_type": "code",
   "execution_count": 2,
   "metadata": {},
   "outputs": [],
   "source": [
    "from scripts.fragment import fragment\n",
    "from scripts.coreproc import cor2mol\n",
    "from scripts.Rtables import Rcore\n",
    "from cairosvg import svg2png\n",
    "import pandas as pd\n",
    "import argparse\n",
    "import os"
   ]
  },
  {
   "cell_type": "code",
   "execution_count": 26,
   "metadata": {
    "collapsed": true
   },
   "outputs": [
    {
     "name": "stderr",
     "output_type": "stream",
     "text": [
      "usage: __main__.py [-h] -q QUERIES -id QUERYID -d DATABASE [-p PREFIX]\n",
      "                   [-c COREPROP] [-s SEP] [-smi SMILESCOL]\n",
      "__main__.py: error: the following arguments are required: -q/--queries, -id/--queryid, -d/--database\n"
     ]
    },
    {
     "ename": "SystemExit",
     "evalue": "2",
     "output_type": "error",
     "traceback": [
      "An exception has occurred, use %tb to see the full traceback.\n",
      "\u001b[0;31mSystemExit\u001b[0m\u001b[0;31m:\u001b[0m 2\n"
     ]
    },
    {
     "name": "stderr",
     "output_type": "stream",
     "text": [
      "/home/jesus/anaconda3/envs/rdkit-env/lib/python3.5/site-packages/IPython/core/interactiveshell.py:2969: UserWarning: To exit: use 'exit', 'quit', or Ctrl-D.\n",
      "  warn(\"To exit: use 'exit', 'quit', or Ctrl-D.\", stacklevel=1)\n"
     ]
    }
   ],
   "source": [
    "parser = argparse.ArgumentParser(description='To perfore core virtual screening for a list of queries in a proprocessed database. Run get-cores.py first')\n",
    "parser.add_argument('-q','--queries', help='Input queries', required=True)\n",
    "parser.add_argument('-qid','--queryid', help='Queries ID column name', required=True)\n",
    "parser.add_argument('-d','--database', help='Input database', required=True)\n",
    "parser.add_argument('-did','--databaseid', help='ID column name in database', required=True)\n",
    "parser.add_argument('-p','--prefix', help='Prefix for output file', default=\"vs_\")\n",
    "parser.add_argument('-c','--coreprop', help='Minimum scaffold/molecule proportion', default=2/3)\n",
    "parser.add_argument('-s','--sep', help='Separator in input file', default=\",\")\n",
    "parser.add_argument('-smi','--smilescol', help='Name of column with SMILES', default=\"Molecule\")\n",
    "parser.add_argument('-r','--rtables', help='If true, R tables are written down', default=True)\n",
    "args = vars(parser.parse_args())"
   ]
  },
  {
   "cell_type": "code",
   "execution_count": 5,
   "metadata": {
    "collapsed": true
   },
   "outputs": [],
   "source": [
    "args = dict()\n",
    "args[\"queries\"] = \"queries.txt\"\n",
    "args[\"queryid\"] = \"mol_ID\"\n",
    "args[\"database\"] = \"out_cores.tsv\"\n",
    "args[\"databaseid\"] = \"mol_ID\"\n",
    "args[\"prefix\"] = \"vs_\"\n",
    "args[\"coreprop\"] = 2/3\n",
    "args[\"sep\"] = \"\\t\"\n",
    "args[\"smilescol\"] = \"Smile\"\n",
    "args[\"qid\"] = \"mol_ID\"\n",
    "args[\"rtables\"] = True"
   ]
  },
  {
   "cell_type": "code",
   "execution_count": 6,
   "metadata": {},
   "outputs": [],
   "source": [
    "insmi = pd.read_csv(args[\"queries\"], sep=args[\"sep\"], engine=\"python\")\n",
    "fcores = pd.read_csv(args[\"database\"], sep=\"\\t\", engine=\"python\")"
   ]
  },
  {
   "cell_type": "code",
   "execution_count": 4,
   "metadata": {
    "collapsed": true
   },
   "outputs": [],
   "source": [
    "output = pd.DataFrame()"
   ]
  },
  {
   "cell_type": "code",
   "execution_count": 5,
   "metadata": {},
   "outputs": [
    {
     "name": "stderr",
     "output_type": "stream",
     "text": [
      "/home/jesus/anaconda3/envs/rdkit-env/lib/python3.5/site-packages/ipykernel/__main__.py:4: SettingWithCopyWarning: \n",
      "A value is trying to be set on a copy of a slice from a DataFrame.\n",
      "Try using .loc[row_indexer,col_indexer] = value instead\n",
      "\n",
      "See the caveats in the documentation: http://pandas.pydata.org/pandas-docs/stable/indexing.html#indexing-view-versus-copy\n",
      "/home/jesus/anaconda3/envs/rdkit-env/lib/python3.5/site-packages/ipykernel/__main__.py:5: SettingWithCopyWarning: \n",
      "A value is trying to be set on a copy of a slice from a DataFrame.\n",
      "Try using .loc[row_indexer,col_indexer] = value instead\n",
      "\n",
      "See the caveats in the documentation: http://pandas.pydata.org/pandas-docs/stable/indexing.html#indexing-view-versus-copy\n"
     ]
    }
   ],
   "source": [
    "for row in insmi.iterrows():\n",
    "    cores = {cor2mol(i) for i in fragment(row[1][args[\"smilescol\"]],c=args[\"coreprop\"])}\n",
    "    hitcores = fcores[fcores.core.isin(cores)]\n",
    "    hitcores[\"queryid\"] = row[1][args[\"queryid\"]]\n",
    "    hitcores[\"query\"] = row[1][args[\"smilescol\"]]\n",
    "    output = pd.concat([output,hitcores])"
   ]
  },
  {
   "cell_type": "code",
   "execution_count": 6,
   "metadata": {
    "collapsed": true
   },
   "outputs": [],
   "source": [
    "output.to_csv(args[\"prefix\"] + args[\"queries\"].split(\".\")[0] + \"_\" + args[\"database\"].split(\".\")[0]+\".tsv\", index=None, sep=\"\\t\")"
   ]
  },
  {
   "cell_type": "code",
   "execution_count": 7,
   "metadata": {
    "scrolled": true
   },
   "outputs": [
    {
     "name": "stdout",
     "output_type": "stream",
     "text": [
      "275 total analogs found for 43 queries\n"
     ]
    }
   ],
   "source": [
    "print(\"{} total analogs found for {} queries\".format(len(output), len(output.queryid.unique())))"
   ]
  },
  {
   "cell_type": "code",
   "execution_count": 8,
   "metadata": {
    "collapsed": true
   },
   "outputs": [],
   "source": [
    "noqueries = output[~output.mol_ID.isin(output.queryid.unique())]"
   ]
  },
  {
   "cell_type": "code",
   "execution_count": 9,
   "metadata": {
    "collapsed": true
   },
   "outputs": [],
   "source": [
    "noqueries.to_csv(args[\"prefix\"] + \"rmqueries_\" + args[\"queries\"].split(\".\")[0] + \"_\" + args[\"database\"].split(\".\")[0]+\".tsv\", index=None, sep=\"\\t\")"
   ]
  },
  {
   "cell_type": "code",
   "execution_count": 10,
   "metadata": {
    "scrolled": true
   },
   "outputs": [
    {
     "name": "stdout",
     "output_type": "stream",
     "text": [
      "178 analogs (excluding queries) found for 22 queries\n"
     ]
    }
   ],
   "source": [
    "print(\"{} analogs (excluding queries) found for {} queries\".format(len(noqueries), len(noqueries.queryid.unique())))"
   ]
  },
  {
   "cell_type": "code",
   "execution_count": 21,
   "metadata": {},
   "outputs": [],
   "source": [
    "if args[\"rtables\"] == True:\n",
    "    os.mkdir(\"./Rtables/\")\n",
    "    os.mkdir(\"./Rtables/0index/\")\n",
    "    j=1\n",
    "    for core in noqueries.core.unique():\n",
    "        dirname = \"./Rtables/\" + str(j)\n",
    "        os.mkdir(dirname)\n",
    "        analogs = noqueries[noqueries.core == core][[\"washed\", args[\"databaseid\"]]].drop_duplicates()\n",
    "        analogs.index = analogs[args[\"databaseid\"]]\n",
    "        analogs = analogs[\"washed\"]\n",
    "        queries = noqueries[noqueries.core == core][[\"query\", \"queryid\"]].drop_duplicates()\n",
    "        queries.index = [\"query:\" + str(i) for i in queries[\"queryid\"]]\n",
    "        queries = queries[\"query\"]\n",
    "        analogs = queries.append(analogs)\n",
    "        fig, rtab = Rcore(core, analogs, filename = dirname + \"/Rtab\")\n",
    "        svg2png(bytestring=fig.data, write_to=\"./Rtables/0index/\" + str(j) + \".png\")\n",
    "        j+=1"
   ]
  }
 ],
 "metadata": {
  "kernelspec": {
   "display_name": "Python [conda env:rdkit-env]",
   "language": "python",
   "name": "conda-env-rdkit-env-py"
  }
 },
 "nbformat": 4,
 "nbformat_minor": 2
}
